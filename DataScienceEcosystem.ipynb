{
 "cells": [
  {
   "cell_type": "markdown",
   "id": "609a5093",
   "metadata": {},
   "source": [
    "# Data Science Tools and Ecosystem"
   ]
  },
  {
   "cell_type": "markdown",
   "id": "3cf2dd94",
   "metadata": {},
   "source": [
    "In this notebook, Data Science Tools and Ecosystem are summarized."
   ]
  },
  {
   "cell_type": "markdown",
   "id": "c67342e0",
   "metadata": {},
   "source": [
    "Some of the popular languages that Data Scientists use are:\n",
    "    \n",
    "    \n",
    "    1.python\n",
    "    2.sql\n",
    "    3.c++\n",
    "    4.java \n",
    "    5.R etc.."
   ]
  },
  {
   "cell_type": "markdown",
   "id": "1cdc0810",
   "metadata": {},
   "source": [
    "Some of the commonly used libraries used by Data Scientists include:\n",
    "\n",
    "    \n",
    "1.tensorflow\n",
    "2.numpy\n",
    "3.scipy\n",
    "4.pandas\n",
    "5.matplotlib\n",
    "6.keras\n",
    "7.scikit-learn\n",
    "8.pytorch etc....\n"
   ]
  },
  {
   "cell_type": "markdown",
   "id": "9d2c575c",
   "metadata": {},
   "source": [
    "|Data Science Tools|\n",
    "|---|\n",
    "|SAS|\n",
    "|Apache hadloop|\n",
    "|TensorFlow|"
   ]
  },
  {
   "cell_type": "markdown",
   "id": "843fc0a8",
   "metadata": {},
   "source": [
    "### Below are a few examples of evaluating arithmetic expressions in Python"
   ]
  },
  {
   "cell_type": "code",
   "execution_count": 1,
   "id": "480257c1",
   "metadata": {},
   "outputs": [
    {
     "data": {
      "text/plain": [
       "17"
      ]
     },
     "execution_count": 1,
     "metadata": {},
     "output_type": "execute_result"
    }
   ],
   "source": [
    "#This a simple arithmetic expression to mutiply then add integers\n",
    "(3*4)+5\n"
   ]
  },
  {
   "cell_type": "code",
   "execution_count": 6,
   "id": "311cf9da",
   "metadata": {},
   "outputs": [
    {
     "data": {
      "text/plain": [
       "3.3333333333333335"
      ]
     },
     "execution_count": 6,
     "metadata": {},
     "output_type": "execute_result"
    }
   ],
   "source": [
    " #This will convert 200 minutes to hours by diving by 60\n",
    "200/60\n"
   ]
  },
  {
   "cell_type": "markdown",
   "id": "92a1257c",
   "metadata": {},
   "source": [
    " __objectives__\n",
    "\n",
    "\n",
    "*list popular languages for data science \n",
    "*list popular libraies for data science\n",
    "*list of well known data science tools\n",
    "*how to provide comments in cell"
   ]
  },
  {
   "cell_type": "markdown",
   "id": "ff680bde",
   "metadata": {},
   "source": [
    "### AUTHOR\n",
    "Lakshmi Holla\n",
    "Niveditha Pandith"
   ]
  }
 ],
 "metadata": {
  "kernelspec": {
   "display_name": "Python 3 (ipykernel)",
   "language": "python",
   "name": "python3"
  },
  "language_info": {
   "codemirror_mode": {
    "name": "ipython",
    "version": 3
   },
   "file_extension": ".py",
   "mimetype": "text/x-python",
   "name": "python",
   "nbconvert_exporter": "python",
   "pygments_lexer": "ipython3",
   "version": "3.9.13"
  }
 },
 "nbformat": 4,
 "nbformat_minor": 5
}
